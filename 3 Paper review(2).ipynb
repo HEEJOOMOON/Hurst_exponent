{
 "cells": [
  {
   "cell_type": "markdown",
   "id": "909da135",
   "metadata": {},
   "source": [
    "# Second-order moving average and scaling of stochastic time series"
   ]
  },
  {
   "cell_type": "markdown",
   "id": "662277a5",
   "metadata": {},
   "source": [
    "### 1. Introduction\n",
    "\n",
    "- DFA method\n",
    "    * $y(j)$: stochastic time series\n",
    "    * $DFA = \\sqrt{\\frac{1}{N_{max}} \\sum_{i=1}^{N_{max}}{[y(i) - y_{pol}(i)]^2}}$, where $y_{pol}$ respresents the local trend in each box\n",
    "    * $DFA \\propto n^H $ <br>\n",
    "    <br>\n",
    "    \n",
    "### 2. Moving average technique and stochastic series scailing\n",
    "\n",
    "- $\\sigma^2_{MA} = \\frac{1}{N_{max}-n} \\sum_{i=n}^{N_{max}} {[y(i)- \\tilde{y}_n(i)]}^2$\n",
    "    * A stochastic series $y(i)$\n",
    "    * The moving average $\\tilde{y}_n(i)$, where n is the window\n",
    "    * Calculate the $\\sigma_{MA}$<br>\n",
    "    <br>\n",
    "    \n",
    "- $\\sigma_{MA} \\propto n^H$\n",
    "    * $H \\sim \\frac{log(\\sigma_{MA})}{log(n)}$<br>\n",
    "    <br>\n",
    "    \n",
    "- detrending 방식의 차이\n",
    "    * DFA는 OLS를 통해 trend z(t)를 찾음  \n",
    "    * DMA는 moving avg를 trend라고 봄"
   ]
  }
 ],
 "metadata": {
  "kernelspec": {
   "display_name": "Python 3",
   "language": "python",
   "name": "python3"
  },
  "language_info": {
   "codemirror_mode": {
    "name": "ipython",
    "version": 3
   },
   "file_extension": ".py",
   "mimetype": "text/x-python",
   "name": "python",
   "nbconvert_exporter": "python",
   "pygments_lexer": "ipython3",
   "version": "3.8.5"
  }
 },
 "nbformat": 4,
 "nbformat_minor": 5
}
