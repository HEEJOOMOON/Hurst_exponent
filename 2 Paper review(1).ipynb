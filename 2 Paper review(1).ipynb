{
 "cells": [
  {
   "cell_type": "markdown",
   "id": "3eb916c3",
   "metadata": {},
   "source": [
    "# Time and scale Hurst exponent analysis for financial markets"
   ]
  },
  {
   "cell_type": "markdown",
   "id": "6cc5f63d",
   "metadata": {},
   "source": [
    "### 1. Detrended\n",
    "\n",
    "- Fractional Brownian Motion\n",
    "    * $E[((X(t_2) - X(t_1))^2] \\propto |t_2 - t_1|^2 $<br>\n",
    "    <br>\n",
    "\n",
    "- Detrended Fluctuation Analysis(DFA)\n",
    "    * $z(t) = at +b$: trend (OLS로 추정)\n",
    "    * $F^2_k(\\tau) = \\frac{1}{\\tau} \\sum_{t=k\\tau+1}^{(k+1)\\tau}|X(t) - z(t)|^2, \\; k=0,1,...,\\frac{s}{\\tau}-1$\n",
    "    * $<F^2(\\tau)> = \\frac{\\tau}{s}\\sum_{k=0}^{s/\\tau-1}F^2_k(t)$\n",
    "    * $<F^2(\\tau)> \\sim \\tau^H \\longrightarrow H \\sim \\frac{log(\\sqrt{F^2(\\tau})}{log(\\tau)}$"
   ]
  },
  {
   "cell_type": "markdown",
   "id": "f982a410",
   "metadata": {},
   "source": [
    "### 2. Time and Scale\n",
    "\n",
    "- H(t, s): time과 scale의 함수\n",
    "    * $[t-s/2, t+s/2]$ 의 time interval에 대한 hurst exponent 구함\n",
    "    * 전체 time series의 크기를 T라고 하면, s는 $s/2+1 \\leq t \\leq T-s/2$ 의 조건을 만족해야 함<br>\n",
    "    <br>\n",
    "\n",
    "- 이 논문에서는 OLS로 $z(t)$를 구하기 위해 data point가 80개 이상인 경우를 고려"
   ]
  },
  {
   "cell_type": "markdown",
   "metadata": {},
   "source": [
    "#### Why Detrend"
   ]
  }
 ],
 "metadata": {
  "kernelspec": {
   "display_name": "Python 3",
   "language": "python",
   "name": "python3"
  },
  "language_info": {
   "codemirror_mode": {
    "name": "ipython",
    "version": 3
   },
   "file_extension": ".py",
   "mimetype": "text/x-python",
   "name": "python",
   "nbconvert_exporter": "python",
   "pygments_lexer": "ipython3",
   "version": "3.8.5"
  }
 },
 "nbformat": 4,
 "nbformat_minor": 5
}
