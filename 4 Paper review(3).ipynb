{
 "cells": [
  {
   "cell_type": "markdown",
   "id": "3ff37991",
   "metadata": {},
   "source": [
    "# HURST EXPONENT AND FINANCIAL MARKET PREDICTABILITY"
   ]
  },
  {
   "cell_type": "markdown",
   "id": "c138d138",
   "metadata": {},
   "source": [
    "### Method \n",
    "\n",
    "1. Data\n",
    "    - Dow-Jones daily return(Jan.2, 1930-May 14, 2004)\n",
    "    - Each period of 1024 trading days\n",
    "    - Daily hurst exponent\n",
    "    - Distribution\n",
    "    - 30 samples from H>0.65, 30 samples from 0.54<H<0.55 <br>\n",
    "    <br>\n",
    "\n",
    "2. Time-delay vector(Takens's theorem)\n",
    "    - $X_i = (x_i, x_{i+\\tau}, x_{i+ 2\\tau},...,x_{i+(d-1)\\tau})$\n",
    "    - Construct a vextor $X_i$ from $x_1, x_2,... x_i$ to predict $x_{i+1}$\n",
    "    - d: embbding dimension and $\\tau$: the seperation\n",
    "    - Apply to 60 data sets<br>\n",
    "    <br>\n",
    "\n",
    "3. Auto-mutual information method\n",
    "    - 2의 식에서 $\\tau$ 를 구하기 위함\n",
    "    - $AMI(\\tau) = H_{x(t)} + H_{x(t+\\tau)} - H_{[x(t), x(t+\\tau)]}$\n",
    "        * H는 엔트로피를 뜻함\n",
    "    - The amount of information in the time-shifted quantity $x(t+\\tau)$\n",
    "        * 어느 시점($\\tau$)까지의 prediction에서 $\\tau$가 의미있는지 판단<br>\n",
    "        <br>\n",
    "        \n",
    "4. False nearest neighbour methods\n",
    "    - To examine how the number of neighbors of a point along a signal trajectory change with increasing embedding dimension\n",
    "    - $\\tau$는 당연하게 1, embedding dimension $d$는 3에서 5가 나왔음<br>\n",
    "    <br>\n",
    "    \n",
    "5. Neural Network \n",
    "    - MLP\n",
    "    - Feature: Time-delay Vector $X_i$\n",
    "    - $x_{i+1}$ 예측"
   ]
  },
  {
   "cell_type": "markdown",
   "metadata": {},
   "source": [
    "### Conclusion\n",
    "\n",
    "- Hurst exponent가 컸던 기간에 대해서는 H=0.54~55인 즉, random walk에 가까운 기간에 비해 정확도가 높았음\n",
    "- 몇몇 기간은 Strong trend structure을 보이고 이 기간에 대해서는 forecasting benefit이 있다고 보여짐"
   ]
  },
  {
   "cell_type": "markdown",
   "metadata": {},
   "source": [
    "### **How about Mean-Reversion?**"
   ]
  }
 ],
 "metadata": {
  "kernelspec": {
   "display_name": "Python 3",
   "language": "python",
   "name": "python3"
  },
  "language_info": {
   "codemirror_mode": {
    "name": "ipython",
    "version": 3
   },
   "file_extension": ".py",
   "mimetype": "text/x-python",
   "name": "python",
   "nbconvert_exporter": "python",
   "pygments_lexer": "ipython3",
   "version": "3.8.5"
  }
 },
 "nbformat": 4,
 "nbformat_minor": 5
}
